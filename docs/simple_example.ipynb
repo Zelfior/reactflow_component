{
 "cells": [
  {
   "cell_type": "markdown",
   "id": "aa7960e3",
   "metadata": {},
   "source": [
    "#   Workflow use example\n",
    "\n",
    "This section provides an example of how to build a workflow using the API. In this example, FloatInput based nodes can be plugged in output nodes, the output nodes will display the sum of the plugged float input nodes.\n",
    "\n",
    "First the necessary classes must be imported from the module:\n"
   ]
  },
  {
   "cell_type": "code",
   "execution_count": null,
   "id": "8a308544",
   "metadata": {},
   "outputs": [],
   "source": [
    "from typing import Any, Dict, List\n",
    "\n",
    "import panel as pn\n",
    "pn.extension()\n",
    "\n",
    "from panel_reactflow.workflow import Workflow, WorkflowNode\n",
    "from panel_reactflow.api import NodePort, PortDirection, PortPosition, Node, Edge"
   ]
  },
  {
   "cell_type": "markdown",
   "id": "68123773",
   "metadata": {},
   "source": [
    "##  Nodes definition"
   ]
  },
  {
   "cell_type": "markdown",
   "id": "a982a1d2",
   "metadata": {},
   "source": [
    "\n",
    "The float input node is defined by the code below. \n",
    "\n",
    "-   A ``pn.widgets.FloatInput`` object is created and stored as class attribute. If its value change, the ``update`` function is called. \n",
    "-   In this case, the ``update`` function only needs to trigger its output nodes (nodes plugged to output ports).\n",
    "-   The node has only one port, which is an output, which we decide to locate on the node right.\n",
    "-   The ``create`` function returns a column that centers the ``FloatInput`` widget.\n",
    "-   The node dictionary returned by ``get_node_json_value`` contains the ``FloatInput`` value that we set at the \"value\" key.\n"
   ]
  },
  {
   "cell_type": "code",
   "execution_count": null,
   "id": "8de3eb5f",
   "metadata": {},
   "outputs": [],
   "source": [
    "class FloatInputNode(WorkflowNode):\n",
    "    node_class_name = \"Float Input\"\n",
    "    ports:List[NodePort] = [NodePort(direction=PortDirection.OUTPUT, position=PortPosition.RIGHT, name=\"output\")]\n",
    "\n",
    "    def __init__(self, ):\n",
    "        super().__init__()\n",
    "        self.float_input = pn.widgets.FloatInput(value=0., width=100)\n",
    "        \n",
    "        self.float_input.param.watch(self.update, \"value\")\n",
    "\n",
    "    def create(self, ):\n",
    "        return pn.layout.Column(\n",
    "                                    self.float_input, \n",
    "                                    name=self.name, \n",
    "                                    align=\"center\"\n",
    "                                )\n",
    "    \n",
    "    def update(self, _):\n",
    "        self.update_outputs()\n",
    "\n",
    "    def get_node_json_value(self) -> Dict[str, Any]:\n",
    "        return {\"value\" : self.float_input.value}"
   ]
  },
  {
   "cell_type": "markdown",
   "id": "10d1cb19",
   "metadata": {},
   "source": [
    "\n",
    "The result node input node is defined by the code below. \n",
    "\n",
    "-   The inputs sum is displayed in a  ``pn.pane.Markdown`` object that is created and stored as class attribute. \n",
    "-   The node has one input port, which we decide to locate on the node left to be consistent with the float input node.\n",
    "-   The ``create`` function returns a column that centers the ``Markdown`` widget.\n",
    "-   In this case, the ``update`` function reads the list of nodes plugged at its ``input`` port:\n",
    "    -   if no node is plugged, a \"Result : Undefined\" message is displayed\n",
    "    -   if nodes are plugged, their value is summed and displayed in the ``Markdown`` widget.\n"
   ]
  },
  {
   "cell_type": "code",
   "execution_count": null,
   "id": "197544e5",
   "metadata": {},
   "outputs": [],
   "source": [
    "class ResultNode(WorkflowNode):\n",
    "    node_class_name = \"Result\"\n",
    "    ports:List[NodePort] = [NodePort(direction=PortDirection.INPUT, position=PortPosition.LEFT, name=\"input\")]\n",
    "\n",
    "    def __init__(self, ):\n",
    "        super().__init__()\n",
    "        self.result_label = pn.pane.Markdown(\"Result : Undefined\")\n",
    "\n",
    "    def create(self, ):\n",
    "        return pn.layout.Column(\n",
    "                                    self.result_label, \n",
    "                                    name=self.name, \n",
    "                                    align=\"center\"\n",
    "                                )\n",
    "    \n",
    "    def update(self, _):\n",
    "        value = 0\n",
    "\n",
    "        if \"input\" in self.plugged_nodes :\n",
    "            if len(self.plugged_nodes[\"input\"]) == 0:\n",
    "                self.result_label.object = f\"Result : Undefined\"\n",
    "            else:\n",
    "                for float_input in self.plugged_nodes[\"input\"]:\n",
    "                    value += float_input.get_node_json_value()[\"value\"]\n",
    "\n",
    "                self.result_label.object = f\"Addition result : {round(value, 1)}\"\n",
    "            self.update_outputs()\n",
    "\n",
    "    def get_node_json_value(self) -> Dict[str, Any]:\n",
    "        return {\"value\" : self.result_label.object}\n"
   ]
  },
  {
   "cell_type": "markdown",
   "id": "68a7161d",
   "metadata": {},
   "source": [
    "##  Create the workflow graph\n",
    "\n",
    "Now the both node classes were created, a Workflow object can be created providing the node classes in arguments."
   ]
  },
  {
   "cell_type": "code",
   "execution_count": null,
   "id": "9ffa3334",
   "metadata": {},
   "outputs": [],
   "source": [
    "empty_graph = Workflow(nodes_classes = [FloatInputNode, ResultNode],\n",
    "                    initial_nodes=[],\n",
    "                    initial_edges=[])"
   ]
  },
  {
   "cell_type": "code",
   "execution_count": null,
   "id": "16682900",
   "metadata": {},
   "outputs": [],
   "source": [
    "pn.Row(empty_graph, height=600)"
   ]
  },
  {
   "cell_type": "markdown",
   "id": "62ff63c2",
   "metadata": {},
   "source": [
    "A reactlow graph can also be created with initial nodes and edges defined."
   ]
  },
  {
   "cell_type": "code",
   "execution_count": null,
   "id": "0e1b7f1b",
   "metadata": {},
   "outputs": [],
   "source": [
    "node_1 = FloatInputNode()\n",
    "node_2 = ResultNode()\n",
    "\n",
    "filled_graph = Workflow(nodes_classes = [FloatInputNode, ResultNode],\n",
    "                    initial_nodes=[\n",
    "                        Node(\"Node_1\", node_1, 0, 0),\n",
    "                        Node(\"Node_2\", node_2, 200, 0),\n",
    "                    ],\n",
    "                    initial_edges=[\n",
    "                        Edge(\"Node_1\", \"output\", \"Node_2\", \"input\"),\n",
    "                    ])"
   ]
  },
  {
   "cell_type": "code",
   "execution_count": null,
   "id": "30bffb3c",
   "metadata": {},
   "outputs": [],
   "source": [
    "pn.Row(filled_graph, height=600)"
   ]
  }
 ],
 "metadata": {
  "kernelspec": {
   "display_name": "venv_reactflow",
   "language": "python",
   "name": "python3"
  },
  "language_info": {
   "codemirror_mode": {
    "name": "ipython",
    "version": 3
   },
   "file_extension": ".py",
   "mimetype": "text/x-python",
   "name": "python",
   "nbconvert_exporter": "python",
   "pygments_lexer": "ipython3",
   "version": "3.10.0"
  }
 },
 "nbformat": 4,
 "nbformat_minor": 5
}
